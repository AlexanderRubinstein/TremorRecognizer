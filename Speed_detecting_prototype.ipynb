{
 "cells": [
  {
   "cell_type": "code",
   "execution_count": 1,
   "metadata": {},
   "outputs": [
    {
     "name": "stderr",
     "output_type": "stream",
     "text": [
      "D:\\python\\lib\\site-packages\\h5py\\__init__.py:36: FutureWarning: Conversion of the second argument of issubdtype from `float` to `np.floating` is deprecated. In future, it will be treated as `np.float64 == np.dtype(float).type`.\n",
      "  from ._conv import register_converters as _register_converters\n"
     ]
    }
   ],
   "source": [
    "import json\n",
    "import os\n",
    "import pandas as pd\n",
    "import numpy as np\n",
    "import matplotlib.pyplot as plt\n",
    "from scipy.interpolate import interp1d\n",
    "from scipy import signal\n",
    "import zipfile\n",
    "from scipy.stats import mode\n",
    "from scipy.signal import savgol_filter\n",
    "from sklearn.linear_model import LogisticRegression\n",
    "from sklearn.model_selection import train_test_split\n",
    "from imblearn.over_sampling import SMOTE\n",
    "from sklearn.linear_model import LinearRegression\n",
    "from sklearn.manifold import TSNE\n",
    "from sklearn.cluster import KMeans\n",
    "from sklearn.metrics import accuracy_score\n",
    "from sklearn.tree import DecisionTreeRegressor"
   ]
  },
  {
   "cell_type": "code",
   "execution_count": 3,
   "metadata": {},
   "outputs": [],
   "source": [
    "path = 'D:/PD_project'\n",
    "patient_markup_path = '/'.join([path, 'patients.xlsx'])\n",
    "folder_name = 'ex6_book'\n",
    "points_path = '/'.join([path, folder_name])\n",
    "points_path_arch = points_path + '_arch'\n",
    "additional_path = '/'.join(['content/drive/My Drive/tremor recognition/output/json', folder_name])"
   ]
  },
  {
   "cell_type": "code",
   "execution_count": 4,
   "metadata": {},
   "outputs": [],
   "source": [
    "FEATURE_TYPE = 'pose_keypoints_2d'\n",
    "#necessary points:\n",
    "#    -left_hand: 5, 6, 7\n",
    "#    -right hand: 2, 3, 4\n",
    "#    -head: 0"
   ]
  },
  {
   "cell_type": "markdown",
   "metadata": {},
   "source": [
    "### Upload targets"
   ]
  },
  {
   "cell_type": "code",
   "execution_count": 5,
   "metadata": {},
   "outputs": [],
   "source": [
    "patient_markup = pd.read_excel(patient_markup_path)\n",
    "patient_markup.dropna(subset=['is_bradykinesia'], inplace=True)"
   ]
  },
  {
   "cell_type": "code",
   "execution_count": 6,
   "metadata": {},
   "outputs": [],
   "source": [
    "considered_patients = []\n",
    "for file in os.listdir(points_path_arch):\n",
    "#     print(file)\n",
    "    p_num = int(file.split('.')[0].split('_')[0][-2:])\n",
    "    if p_num in patient_markup.num.values:\n",
    "        considered_patients.append(patient_markup.values[patient_markup.num.values == p_num])"
   ]
  },
  {
   "cell_type": "code",
   "execution_count": 7,
   "metadata": {},
   "outputs": [
    {
     "data": {
      "text/plain": [
       "32"
      ]
     },
     "execution_count": 7,
     "metadata": {},
     "output_type": "execute_result"
    }
   ],
   "source": [
    "num_of_patients = len(considered_patients)\n",
    "num_of_patients"
   ]
  },
  {
   "cell_type": "code",
   "execution_count": 8,
   "metadata": {},
   "outputs": [],
   "source": [
    "considered_patients = np.array(considered_patients).reshape(num_of_patients, -1)\n",
    "considered_patients = pd.DataFrame(considered_patients[:,(0,-3)])"
   ]
  },
  {
   "cell_type": "code",
   "execution_count": 9,
   "metadata": {},
   "outputs": [],
   "source": [
    "considered_patients.columns = ['num', 'is_bradykinesia']\n",
    "considered_patients = considered_patients.astype('int') "
   ]
  },
  {
   "cell_type": "code",
   "execution_count": 10,
   "metadata": {},
   "outputs": [],
   "source": [
    "# for file in os.listdir(points_path_arch):\n",
    "#     arch_path = '/'.join([points_path_arch, file])\n",
    "#     folder_path = '/'.join([points_path, file.split('.')[0]])\n",
    "#     arch = zipfile.ZipFile(arch_path, 'r')\n",
    "#     os.system('mkdir '+folder_path)\n",
    "#     arch.extractall(folder_path)"
   ]
  },
  {
   "cell_type": "markdown",
   "metadata": {},
   "source": [
    "### Some useful functions"
   ]
  },
  {
   "cell_type": "code",
   "execution_count": 11,
   "metadata": {},
   "outputs": [],
   "source": [
    "def zero_fill(arr):\n",
    "    '''\n",
    "    fill gaps in data by extrapolation\n",
    "    \n",
    "    '''\n",
    "#     print(np.sum(arr!=0))\n",
    "    if np.sum(arr!=0) < 2:\n",
    "        return arr\n",
    "    x = np.arange(len(arr))\n",
    "    arr_no_0 = arr[arr!=0]\n",
    "#     print(arr.shape)\n",
    "    interp = interp1d(x[arr!=0], arr_no_0, fill_value=\"extrapolate\")\n",
    "    fill = interp(x[arr==0])\n",
    "    arr[arr==0] = fill\n",
    "    return arr"
   ]
  },
  {
   "cell_type": "code",
   "execution_count": 12,
   "metadata": {},
   "outputs": [],
   "source": [
    "def smooth_savgol(signal):\n",
    "    '''\n",
    "    make signal smoother\n",
    "    \n",
    "    '''\n",
    "    signal_len = len(signal)\n",
    "    window_length = 19\n",
    "    polyorder = 4\n",
    "    return savgol_filter(signal, \n",
    "                           window_length = window_length, \n",
    "                           polyorder=polyorder)"
   ]
  },
  {
   "cell_type": "code",
   "execution_count": 13,
   "metadata": {},
   "outputs": [],
   "source": [
    "def get_coord(folder_path, feature_type):\n",
    "    '''\n",
    "    return an array of coordinates corresponding to <feature_type>\n",
    "    for all people detected by the algorithm;\n",
    "    json files are obtained from the <folder_path>\n",
    "\n",
    "    '''\n",
    "    \n",
    "    coords = {}\n",
    "    \n",
    "    file_path = '/'.join([folder_path, additional_path, folder_path.split('/')[-1]])\n",
    "    \n",
    "    for file in os.listdir(file_path):\n",
    "        with open('/'.join([file_path, file]), \"r\") as read_file:\n",
    "            data = json.load(read_file)['people']\n",
    "        for i, person in enumerate(data):\n",
    "            # openpose does not provide an option to distinguish people,\n",
    "            # therefore for that purpose head displacement was observed \n",
    "            # (here errors might arise due to incorrect functioning of the openpose library)\n",
    "\n",
    "            head_coords = np.array(person['pose_keypoints_2d'][:2])\n",
    "            if i not in coords.keys():\n",
    "                coords[i] = {'head': [head_coords], \n",
    "                             'coords_x': [person[feature_type][::3]],\n",
    "                             'coords_y': [person[feature_type][1::3]],\n",
    "                             'conf': [person[feature_type][2::3]]\n",
    "                            }\n",
    "            else:\n",
    "                pr_i = None\n",
    "                min_i = 1e100\n",
    "                for j in coords.keys():\n",
    "                    if np.linalg.norm(head_coords-coords[j]['head'][-1]) < min_i:\n",
    "                        min_i = np.linalg.norm(head_coords-coords[j]['head'][-1])\n",
    "                        pr_i = j\n",
    "                coords[pr_i]['head'].append(head_coords)\n",
    "                for k, key in enumerate(['coords_x', 'coords_y', 'conf']):\n",
    "                    coords[pr_i][key].append(person[feature_type][k::3])\n",
    "#                 coords[pr_i]['coords_x'].append(person[feature_type][::3])\n",
    "#                 coords[pr_i]['coords_y'].append(person[feature_type][1::3])\n",
    "#                 coords[pr_i]['conf'].append(person[feature_type][2::3])\n",
    "    for i in coords.keys():\n",
    "        coords[i]['head'] = np.array(coords[i]['head'])\n",
    "        for k in ['coords_x', 'coords_y', 'conf']:\n",
    "            coords[i][k] = np.array(coords[i][k])\n",
    "    return coords"
   ]
  },
  {
   "cell_type": "code",
   "execution_count": 14,
   "metadata": {},
   "outputs": [],
   "source": [
    "def get_hand_diffs(arr):\n",
    "    '''\n",
    "    return speeds and accelerations of changes in distances between keypoints \n",
    "    2, 3, 4 of the right hand\n",
    "    from the coordinates array <arr> (corresponds to 'pose_keypoints_2d') \n",
    "    \n",
    "    '''\n",
    "#     res_coords = (arr[:, (4, 4, 3, 7, 7, 6)] - arr[:, (2, 3, 2, 5, 6, 5)]).T\n",
    "    res_coords = (arr[:, (4, 4, 3)] - arr[:, (2, 3, 2)]).T\n",
    "    for i in range(len(res_coords)):\n",
    "        res_coords[i] = smooth_savgol(zero_fill(res_coords[i]))\n",
    "    res_coords = res_coords.T\n",
    "    res_vs = (res_coords - np.roll(res_coords, 1, axis=0))[1:]\n",
    "    res_as = (res_vs - np.roll(res_vs, 1, axis=0))[1:]\n",
    "    return res_vs, res_as"
   ]
  },
  {
   "cell_type": "code",
   "execution_count": 15,
   "metadata": {},
   "outputs": [],
   "source": [
    "def get_features(coords): #for one person\n",
    "    '''\n",
    "    create features from the coordinates values:\n",
    "    mean, std and mode for speeds and accelerations of coordinates changes\n",
    "\n",
    "    '''\n",
    "    res_vs_x, res_as_x = get_hand_diffs(coords['coords_x'])\n",
    "    res_vs_y, res_as_y = get_hand_diffs(coords['coords_y'])\n",
    "    means = np.append([np.mean(res_vs_x, axis=0), np.mean(res_vs_y, axis=0)], \n",
    "                      [np.mean(res_as_x, axis=0), np.mean(res_as_y, axis=0)]\n",
    "                     )\n",
    "    stds = np.append([np.std(res_vs_x, axis=0), np.std(res_vs_y, axis=0)],\n",
    "                     [np.std(res_as_x, axis=0), np.std(res_as_y, axis=0)]\n",
    "                    )\n",
    "#     maxs - dangerous because of noise\n",
    "#     noise can be decreased by tuning open pose detection\n",
    "#     maxs = np.append([np.amax(res_vs_x, axis=0), np.amax(res_vs_y, axis=0)],\n",
    "#                      [np.amax(res_as_x, axis=0), np.amax(res_as_y, axis=0)]\n",
    "#                     )\n",
    "#     mins = np.append([np.amin(res_vs_x, axis=0), np.amin(res_vs_y, axis=0)],\n",
    "#                      [np.amin(res_as_x, axis=0), np.amin(res_as_y, axis=0)]\n",
    "#                     )\n",
    "#     mins - stupid cause patients can just seat\n",
    "#     to avoid this situation the periodic part corresponding to implementing \n",
    "#     of the exercise should be cut from the whole time series\n",
    "    mods = np.append([mode(res_vs_x, axis=0)[0], mode(res_vs_y, axis=0)[0]],\n",
    "                     [mode(res_as_x, axis=0)[0], mode(res_as_y, axis=0)[0]]\n",
    "                    )\n",
    "    return means, stds, mods"
   ]
  },
  {
   "cell_type": "code",
   "execution_count": 16,
   "metadata": {},
   "outputs": [],
   "source": [
    "def create_dataset(points_path, considered_patients):\n",
    "    data = []\n",
    "    for folder_name in os.listdir(points_path):\n",
    "        p_num = int(folder_name.split('.')[0].split('_')[0][-2:])\n",
    "        if p_num in considered_patients.num.values:\n",
    "            folder_path = '/'.join([points_path, folder_name])\n",
    "            coords = get_coord(folder_path, FEATURE_TYPE)\n",
    "            patient = 0\n",
    "#             here is the heuristic method of finding the person\n",
    "#             who is doing exercices (it should be done more accurate)\n",
    "\n",
    "            if len(coords.keys()) > 1:\n",
    "                head_means_y = [] #consider y axis\n",
    "                head_means_x = []\n",
    "                keys = []\n",
    "                lens = []\n",
    "                for k in coords.keys():\n",
    "                    lens.append(len(coords[k]['head']))\n",
    "                    head_means_y.append(np.mean(coords[k]['head'][:, 1]))\n",
    "                    head_means_x.append(np.mean(coords[k]['head'][:, 0]))\n",
    "                    keys.append(k)\n",
    "                keys = np.array(keys)\n",
    "                head_means_x = np.array(head_means_x)\n",
    "                head_means_y = np.array(head_means_y)\n",
    "                keys = keys[np.argsort(lens)[-2:]]\n",
    "                head_means_y = head_means_y[np.argsort(lens)[-2:]]\n",
    "                patient = keys[np.argmax(head_means_y)]\n",
    "            means, stds, mods = get_features(coords[patient])\n",
    "            y = considered_patients.is_bradykinesia.values[considered_patients.num.values == p_num][0]\n",
    "            l = np.append(np.append([means, stds], mods), np.array([y, p_num]))\n",
    "            data.append(l)\n",
    "        print(folder_name, 'done')\n",
    "    columns = []\n",
    "    for n in ['mean', 'std', 'mode']:\n",
    "        for i in range(12):\n",
    "            columns.append(n+'_'+str(i))\n",
    "    columns.append('target')\n",
    "    columns.append('patient_num')\n",
    "    data = pd.DataFrame(data, columns=columns)\n",
    "    data['target'] = data['target'].astype('int')\n",
    "    data['patient_num'] = data['patient_num'].astype('int')\n",
    "    return data"
   ]
  },
  {
   "cell_type": "code",
   "execution_count": 17,
   "metadata": {},
   "outputs": [],
   "source": [
    "def get_grid(data):\n",
    "    '''\n",
    "    function for visualisation\n",
    "    \n",
    "    '''\n",
    "    x_min, x_max = data[:, 0].min() - 10, data[:, 0].max() + 10\n",
    "    y_min, y_max = data[:, 1].min() - 10, data[:, 1].max() + 10\n",
    "    return np.meshgrid(\n",
    "        np.arange(x_min, x_max, 1),\n",
    "        np.arange(y_min, y_max, 1),\n",
    "    )"
   ]
  },
  {
   "cell_type": "markdown",
   "metadata": {},
   "source": [
    "### Get data"
   ]
  },
  {
   "cell_type": "code",
   "execution_count": 18,
   "metadata": {},
   "outputs": [
    {
     "name": "stdout",
     "output_type": "stream",
     "text": [
      "patient03_03_ex6_2019-01-24 done\n",
      "patient05_05_2_ex6_2019-01-24 done\n",
      "patient06_06_2_ex6_2019-01-24 done\n",
      "patient06_06_ex6_2019-01-24 done\n",
      "patient08_08_ex6_2019-01-25 done\n",
      "patient11_11_ex6_2019-01-25 done\n",
      "patient22_22_ex6_2019-01-31 done\n",
      "patient23_23_2_ex6_2019-01-31 done\n",
      "patient23_23_ex6_2019-01-31 done\n",
      "patient27_27_ex6_2019-02-07 done\n",
      "patient29_29_ex6_2019-02-12 done\n",
      "patient30_30_ex6_2019-02-12 done\n",
      "patient31_31_ex6_2019-02-12 done\n",
      "patient32_32_2_ex6_2019-02-12 done\n",
      "patient32_32_ex6_2019-02-12 done\n",
      "patient33_33_2_ex6_2019-02-12 done\n",
      "patient33_33_ex6_2019-02-12 done\n",
      "patient39_39_ex6_2019-02-26 done\n",
      "patient40_40_ex6_2019-02-26 done\n",
      "patient41_41_2_ex6_2019-02-28 done\n",
      "patient42_42_2_ex6_2019-02-28 done\n",
      "patient42_42_ex6_2019-02-28 done\n",
      "patient43_43_2_ex6_2019-02-28 done\n",
      "patient43_43_ex6_2019-02-28 done\n",
      "patient49_49_ex7_2019-03-28 done\n",
      "patient50_50_ex6_2019-03-28 done\n",
      "patient51_51_ex6_2019-04-09 done\n",
      "patient52_52_ex7_2019-04-09 done\n",
      "patient53_53_2_ex6_2019-04-11 done\n",
      "patient54_54_2_ex6_2019-04-11 done\n",
      "patient54_54_ex6_2019-04-11 done\n",
      "patient55_55_2_ex6_2019-04-11 done\n",
      "patient55_55_ex6_2019-04-11 done\n",
      "patient56_56_2_ex6_2019-04-11 done\n",
      "patient56_56_ex6_2019-04-11 done\n",
      "patient58_58_ex6_2019-04-25 done\n",
      "patient59_59_ex6_2019-04-25 done\n",
      "patient63_63_ex6_2019-05-21 done\n",
      "patient64_64_ex7_2019-05-21 done\n"
     ]
    }
   ],
   "source": [
    "data = create_dataset(points_path, considered_patients)"
   ]
  },
  {
   "cell_type": "code",
   "execution_count": 19,
   "metadata": {},
   "outputs": [],
   "source": [
    "X = data.values[:,:-2]\n",
    "y = data.target.values"
   ]
  },
  {
   "cell_type": "markdown",
   "metadata": {},
   "source": [
    "### How well data is clustered"
   ]
  },
  {
   "cell_type": "code",
   "execution_count": 20,
   "metadata": {},
   "outputs": [
    {
     "name": "stdout",
     "output_type": "stream",
     "text": [
      "78.12 %\n"
     ]
    }
   ],
   "source": [
    "kmeans = KMeans(n_clusters=2, random_state=8).fit(X)\n",
    "print(round(accuracy_score(kmeans.labels_, y), 4) * 100, '%')"
   ]
  },
  {
   "cell_type": "markdown",
   "metadata": {},
   "source": [
    "### Data augmentation"
   ]
  },
  {
   "cell_type": "code",
   "execution_count": 21,
   "metadata": {},
   "outputs": [
    {
     "name": "stderr",
     "output_type": "stream",
     "text": [
      "D:\\python\\lib\\site-packages\\imblearn\\utils\\_validation.py:253: UserWarning: After over-sampling, the number of samples (200) in class 0 will be larger than the number of samples in the majority class (class #1 -> 19)\n",
      "  n_samples_majority))\n",
      "D:\\python\\lib\\site-packages\\imblearn\\utils\\_validation.py:253: UserWarning: After over-sampling, the number of samples (200) in class 1 will be larger than the number of samples in the majority class (class #1 -> 19)\n",
      "  n_samples_majority))\n"
     ]
    }
   ],
   "source": [
    "sm = SMOTE(random_state=42, k_neighbors=3, sampling_strategy={0: 200, 1:200})\n",
    "\n",
    "X_sm, y_sm = sm.fit_resample(X, y)"
   ]
  },
  {
   "cell_type": "markdown",
   "metadata": {},
   "source": [
    "### Learn model to receive probabilities"
   ]
  },
  {
   "cell_type": "code",
   "execution_count": 22,
   "metadata": {},
   "outputs": [],
   "source": [
    "lr = LogisticRegression(n_jobs=4)"
   ]
  },
  {
   "cell_type": "code",
   "execution_count": 23,
   "metadata": {},
   "outputs": [
    {
     "name": "stderr",
     "output_type": "stream",
     "text": [
      "D:\\python\\lib\\site-packages\\sklearn\\linear_model\\logistic.py:432: FutureWarning: Default solver will be changed to 'lbfgs' in 0.22. Specify a solver to silence this warning.\n",
      "  FutureWarning)\n",
      "D:\\python\\lib\\site-packages\\sklearn\\linear_model\\logistic.py:1544: UserWarning: 'n_jobs' > 1 does not have any effect when 'solver' is set to 'liblinear'. Got 'n_jobs' = 4.\n",
      "  \" = {}.\".format(effective_n_jobs(self.n_jobs)))\n"
     ]
    },
    {
     "data": {
      "text/plain": [
       "LogisticRegression(C=1.0, class_weight=None, dual=False, fit_intercept=True,\n",
       "                   intercept_scaling=1, l1_ratio=None, max_iter=100,\n",
       "                   multi_class='warn', n_jobs=4, penalty='l2',\n",
       "                   random_state=None, solver='warn', tol=0.0001, verbose=0,\n",
       "                   warm_start=False)"
      ]
     },
     "execution_count": 23,
     "metadata": {},
     "output_type": "execute_result"
    }
   ],
   "source": [
    "lr.fit(X_sm, y_sm)"
   ]
  },
  {
   "cell_type": "markdown",
   "metadata": {},
   "source": [
    "### Get TSNE-model and get 2D-data"
   ]
  },
  {
   "cell_type": "code",
   "execution_count": 24,
   "metadata": {},
   "outputs": [],
   "source": [
    "lr_tsne = LinearRegression(n_jobs=4)\n",
    "tree_tsne = DecisionTreeRegressor(random_state=42)"
   ]
  },
  {
   "cell_type": "code",
   "execution_count": 25,
   "metadata": {},
   "outputs": [
    {
     "name": "stdout",
     "output_type": "stream",
     "text": [
      "[t-SNE] Computing 19 nearest neighbors...\n",
      "[t-SNE] Indexed 400 samples in 0.001s...\n",
      "[t-SNE] Computed neighbors for 400 samples in 0.008s...\n",
      "[t-SNE] Computed conditional probabilities for sample 400 / 400\n",
      "[t-SNE] Mean sigma: 1.513334\n",
      "[t-SNE] KL divergence after 250 iterations with early exaggeration: 60.137543\n",
      "[t-SNE] KL divergence after 1000 iterations: 0.246750\n"
     ]
    }
   ],
   "source": [
    "tsne = TSNE(n_components=2, verbose=1, perplexity=6, random_state=3)\n",
    "tsne_results = tsne.fit_transform(X_sm)"
   ]
  },
  {
   "cell_type": "code",
   "execution_count": 26,
   "metadata": {},
   "outputs": [
    {
     "name": "stderr",
     "output_type": "stream",
     "text": [
      "D:\\python\\lib\\site-packages\\sklearn\\linear_model\\logistic.py:432: FutureWarning: Default solver will be changed to 'lbfgs' in 0.22. Specify a solver to silence this warning.\n",
      "  FutureWarning)\n",
      "D:\\python\\lib\\site-packages\\sklearn\\linear_model\\logistic.py:1544: UserWarning: 'n_jobs' > 1 does not have any effect when 'solver' is set to 'liblinear'. Got 'n_jobs' = 4.\n",
      "  \" = {}.\".format(effective_n_jobs(self.n_jobs)))\n"
     ]
    },
    {
     "data": {
      "text/plain": [
       "LogisticRegression(C=1.0, class_weight=None, dual=False, fit_intercept=True,\n",
       "                   intercept_scaling=1, l1_ratio=None, max_iter=100,\n",
       "                   multi_class='warn', n_jobs=4, penalty='l2', random_state=42,\n",
       "                   solver='warn', tol=0.0001, verbose=0, warm_start=False)"
      ]
     },
     "execution_count": 26,
     "metadata": {},
     "output_type": "execute_result"
    }
   ],
   "source": [
    "lr_2d = LogisticRegression(random_state=42, n_jobs=4)\n",
    "lr_2d.fit(tsne_results, y_sm)"
   ]
  },
  {
   "cell_type": "code",
   "execution_count": 27,
   "metadata": {},
   "outputs": [
    {
     "data": {
      "text/plain": [
       "<matplotlib.collections.PathCollection at 0x204006eaf28>"
      ]
     },
     "execution_count": 27,
     "metadata": {},
     "output_type": "execute_result"
    },
    {
     "data": {
      "image/png": "[encoded data removed]",
      "text/plain": [
       "<Figure size 576x576 with 1 Axes>"
      ]
     },
     "metadata": {},
     "output_type": "display_data"
    }
   ],
   "source": [
    "xx, yy = get_grid(tsne_results)\n",
    "predicted = lr_2d.predict(np.c_[xx.ravel(), yy.ravel()]).reshape(xx.shape)\n",
    "plt.figure(figsize=(8, 8))\n",
    "plt.contourf(xx, yy, predicted, cmap='winter', alpha=0.5)\n",
    "plt.scatter(tsne_results[:, 0], tsne_results[:, 1], c=y_sm, s=50, cmap='winter', edgecolor='k')"
   ]
  },
  {
   "cell_type": "code",
   "execution_count": 28,
   "metadata": {},
   "outputs": [
    {
     "data": {
      "text/plain": [
       "DecisionTreeRegressor(criterion='mse', max_depth=None, max_features=None,\n",
       "                      max_leaf_nodes=None, min_impurity_decrease=0.0,\n",
       "                      min_impurity_split=None, min_samples_leaf=1,\n",
       "                      min_samples_split=2, min_weight_fraction_leaf=0.0,\n",
       "                      presort=False, random_state=42, splitter='best')"
      ]
     },
     "execution_count": 28,
     "metadata": {},
     "output_type": "execute_result"
    }
   ],
   "source": [
    "lr_tsne.fit(X_sm, tsne_results)\n",
    "tree_tsne.fit(X_sm, tsne_results)"
   ]
  },
  {
   "cell_type": "markdown",
   "metadata": {},
   "source": [
    "## Get test_data"
   ]
  },
  {
   "cell_type": "code",
   "execution_count": 83,
   "metadata": {},
   "outputs": [],
   "source": [
    "path = 'D:/PD_project'\n",
    "folder_name = 'Tamara'\n",
    "points_path = '/'.join([path, folder_name])\n",
    "points_path_arch = points_path + '_arch'\n",
    "additional_path = '/'.join(['content/drive/My Drive/tremor recognition/output/json', folder_name])"
   ]
  },
  {
   "cell_type": "markdown",
   "metadata": {},
   "source": [
    "#### Get data"
   ]
  },
  {
   "cell_type": "code",
   "execution_count": 84,
   "metadata": {},
   "outputs": [],
   "source": [
    "test_data = []\n",
    "for folder_name in os.listdir(points_path):\n",
    "    folder_path = '/'.join([points_path, folder_name])\n",
    "    coords = get_coord(folder_path, FEATURE_TYPE)\n",
    "    patient = 0\n",
    "    if len(coords.keys()) > 1:\n",
    "        lens = []\n",
    "        keys = []\n",
    "        for k in coords.keys():\n",
    "            lens.append(len(coords[k]['head']))\n",
    "            keys.append(k)\n",
    "        patient = keys[np.argmax(lens)]\n",
    "    means, stds, mods = get_features(coords[patient])\n",
    "    l = np.append(np.append([means, stds], mods), np.array([2]))\n",
    "    test_data.append(l)\n",
    "columns = []\n",
    "for n in ['mean', 'std', 'mode']:\n",
    "    for i in range(12):\n",
    "        columns.append(n+'_'+str(i))\n",
    "columns.append('target')\n",
    "test_data = pd.DataFrame(test_data, columns=columns)\n",
    "test_data['target'] = test_data['target'].astype('int')"
   ]
  },
  {
   "cell_type": "code",
   "execution_count": 85,
   "metadata": {},
   "outputs": [],
   "source": [
    "X_test = test_data.values[:,:-1]\n",
    "y_test = test_data.values[:,-1]"
   ]
  },
  {
   "cell_type": "markdown",
   "metadata": {},
   "source": [
    "#### Predict probability of having PD"
   ]
  },
  {
   "cell_type": "code",
   "execution_count": 94,
   "metadata": {},
   "outputs": [
    {
     "name": "stdout",
     "output_type": "stream",
     "text": [
      "Patient 0 is health with probability = 0.99 and ill with probability =  0.01\n"
     ]
    }
   ],
   "source": [
    "probas = lr.predict_proba(X_test)\n",
    "print(\"Patient\", i, 'is health with probability =', round(probas[1][0], 2), \n",
    "      'and ill with probability = ', round(probas[1][1], 2))"
   ]
  },
  {
   "cell_type": "code",
   "execution_count": 87,
   "metadata": {},
   "outputs": [
    {
     "data": {
      "text/plain": [
       "array([0, 0])"
      ]
     },
     "execution_count": 87,
     "metadata": {},
     "output_type": "execute_result"
    }
   ],
   "source": [
    "lr.predict(X_test)"
   ]
  },
  {
   "cell_type": "markdown",
   "metadata": {},
   "source": [
    "#### Find a patient's point on the graph"
   ]
  },
  {
   "cell_type": "code",
   "execution_count": 88,
   "metadata": {},
   "outputs": [],
   "source": [
    "X_test_2d = tree_tsne.predict(X_test)"
   ]
  },
  {
   "cell_type": "code",
   "execution_count": 89,
   "metadata": {},
   "outputs": [
    {
     "data": {
      "image/png": "[encoded data removed]",
      "text/plain": [
       "<Figure size 576x576 with 1 Axes>"
      ]
     },
     "metadata": {},
     "output_type": "display_data"
    }
   ],
   "source": [
    "xx, yy = get_grid(tsne_results)\n",
    "predicted = lr_2d.predict(np.c_[xx.ravel(), yy.ravel()]).reshape(xx.shape)\n",
    "plt.figure(figsize=(8, 8))\n",
    "plt.contourf(xx, yy, predicted, cmap='BuPu', alpha=0.2)\n",
    "plt.scatter(tsne_results[:, 0], tsne_results[:, 1], c=y_sm, s=50, cmap='BuPu', edgecolor='k', alpha=0.5)\n",
    "\n",
    "plt.scatter(X_test_2d[0,0], X_test_2d[0,1], color='r', edgecolor='k', s=70)\n",
    "# plt.scatter(X_test_2d[1,0], X_test_2d[1,1], color='r')\n",
    "plt.show()"
   ]
  },
  {
   "cell_type": "code",
   "execution_count": null,
   "metadata": {},
   "outputs": [],
   "source": []
  }
 ],
 "metadata": {
  "kernelspec": {
   "display_name": "Python 3",
   "language": "python",
   "name": "python3"
  },
  "language_info": {
   "codemirror_mode": {
    "name": "ipython",
    "version": 3
   },
   "file_extension": ".py",
   "mimetype": "text/x-python",
   "name": "python",
   "nbconvert_exporter": "python",
   "pygments_lexer": "ipython3",
   "version": "3.7.3"
  }
 },
 "nbformat": 4,
 "nbformat_minor": 2
}
